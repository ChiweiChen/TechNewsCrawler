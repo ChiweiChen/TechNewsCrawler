{
 "cells": [
  {
   "cell_type": "code",
   "execution_count": null,
   "metadata": {},
   "outputs": [],
   "source": [
    "from selenium import webdriver\n",
    "from selenium.webdriver.chrome.options import Options\n",
    "from bs4 import BeautifulSoup\n",
    "import time\n",
    "import os\n",
    "options= Options()\n",
    "options.add_argument('--headless')\n",
    "options.add_argument('--disable-gpu')\n",
    "driver=webdriver.Chrome(os.getcwd()+\"/chromedriver\",chrome_options=options)\n",
    "import pymysql.cursors\n",
    "connection=pymysql.connect(host='localhost',\n",
    "user='root',\n",
    "password='27727302',\n",
    "db='example',\n",
    "charset='utf8mb4',\n",
    "cursorclass=pymysql.cursors.DictCursor)\n",
    "for i in range(1,3):\n",
    "    pagenumber=str(i)\n",
    "    driver.get('https://technews.tw/category/internet/page/'+pagenumber)\n",
    "    time.sleep(0.5)\n",
    "    sourceCode=BeautifulSoup(driver.page_source,\"html.parser\")\n",
    "    headers=sourceCode.find_all(\"header\",\"entry-header\")\n",
    "    for header in headers:\n",
    "        sourceCode2=BeautifulSoup(str(header),\"html.parser\")\n",
    "        title=sourceCode2.find_all(\"h1\",\"entry-title\")[0].text\n",
    "        print(title)\n",
    "        date=sourceCode2.find_all(\"span\",\"body\")[1].text\n",
    "        print(date)\n",
    "        category=sourceCode2.find_all(\"span\",\"body\")[2]\n",
    "        sourceCode3=BeautifulSoup(str(category),\"html.parser\")\n",
    "        typs=sourceCode3.find_all(\"a\")\n",
    "        keywords=\"\"\n",
    "        for typ in typs:\n",
    "            if typ==typs[-1]:\n",
    "                keywords=keywords+typ.text\n",
    "            else:\n",
    "                keywords=keywords+typ.text+\",\"\n",
    "        print(keywords)\n",
    "        with connection.cursor() as cursor\n",
    "driver.quit()\n",
    "    "
   ]
  }
 ],
 "metadata": {
  "kernelspec": {
   "display_name": "Python 3",
   "language": "python",
   "name": "python3"
  },
  "language_info": {
   "codemirror_mode": {
    "name": "ipython",
    "version": 3
   },
   "file_extension": ".py",
   "mimetype": "text/x-python",
   "name": "python",
   "nbconvert_exporter": "python",
   "pygments_lexer": "ipython3",
   "version": "3.7.0"
  }
 },
 "nbformat": 4,
 "nbformat_minor": 2
}
